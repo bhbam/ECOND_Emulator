{
 "cells": [
  {
   "cell_type": "code",
   "execution_count": null,
   "id": "e92ff64b",
   "metadata": {},
   "outputs": [],
   "source": [
    "%load_ext autoreload\n",
    "%autoreload 2"
   ]
  },
  {
   "cell_type": "code",
   "execution_count": null,
   "id": "c670afcf",
   "metadata": {},
   "outputs": [],
   "source": [
    "import numpy as np\n",
    "import pandas as pd"
   ]
  },
  {
   "cell_type": "code",
   "execution_count": null,
   "id": "dea51dcb",
   "metadata": {},
   "outputs": [],
   "source": [
    "from SimpleEmulator.ParseEtxOutputs import toHexV, parseOutputPackets, parseIdle, parseHeaderWords, parseHeaderWord0, parseHeaderWord1, parsePacketHeader, parseDAQLink, crc\n",
    "\n",
    "from SimpleEmulator.SimulatorCounters import simulateCounters\n",
    "from SimpleEmulator.LoadI2C import parseI2C\n",
    "\n",
    "from SimpleEmulator.I2CColumnInfo import i2c_columns, new_i2c_columns\n",
    "\n",
    "from SimpleEmulator.ECONDSimpleEmulator import ECOND_Simple_Emulator"
   ]
  },
  {
   "cell_type": "code",
   "execution_count": null,
   "id": "3ee6dfb5",
   "metadata": {},
   "outputs": [],
   "source": [
    "#load data from simvision UVM run\n",
    "df=pd.read_csv('data/simvision.csv',dtype=object)\n",
    "\n",
    "df.SimTime=df.SimTime.astype(int)\n",
    "df.set_index('SimTime',inplace=True)\n",
    "\n",
    "#drop last row (typically a double count when exporting form simvision)\n",
    "df.drop(df.index[-1],inplace=True)\n",
    "\n"
   ]
  },
  {
   "cell_type": "code",
   "execution_count": null,
   "id": "bae33402",
   "metadata": {},
   "outputs": [],
   "source": [
    "#parse data into inputs/outputs/FC/i2c\n",
    "dfInput=df.loc[:,[f'tb_top.test_harness.econd.Aligner_Out_eRX{i}[31:0]' for i in range(12)]]\n",
    "dfOutput=df.loc[:,[f'tb_top.test_harness.econd.ECOND_P1_Right_u.buffer_top.Ser_Ctrl_u.genblk1[{i}].Word_Aligner_j.in[31:0]' for i in range(6)]]\n",
    "\n",
    "dfInput.columns=[f'eRx_{i}' for i in range(12)]\n",
    "dfOutput.columns=[f'eTx_{i}' for i in range(6)]\n",
    "\n",
    "dfFC=df.loc[:,['tb_top.test_harness.econd.BCR_FCmd',\n",
    "       'tb_top.test_harness.econd.EBR_FCmd',\n",
    "       'tb_top.test_harness.econd.ECR_FCmd',\n",
    "       'tb_top.test_harness.econd.L1A_FCmd',\n",
    "       'tb_top.test_harness.econd.LINK_RESET_ECON_D_FCmd',\n",
    "       'tb_top.test_harness.econd.LINK_RESET_ROC_D_FCmd',\n",
    "       'tb_top.test_harness.econd.NZS_FCmd',\n",
    "       'tb_top.test_harness.econd.OCR_FCmd',\n",
    "       'tb_top.test_harness.econd.SPARE_0_FCmd']].astype(int)\n",
    "\n",
    "dfFC.columns=['BCR','EBR','ECR','L1A','LINK_RESET_ECON_D','LINK_RESET_ROC_D','NZS','OCR','SPARE_0']\n",
    "\n",
    "\n",
    "i2cValues=df.loc[:,i2c_columns].iloc[0]\n",
    "i2cValues.index=new_i2c_columns\n",
    "\n",
    "i2c=parseI2C(i2cValues)\n"
   ]
  },
  {
   "cell_type": "code",
   "execution_count": null,
   "id": "a8af9416",
   "metadata": {},
   "outputs": [],
   "source": [
    "#locate headers and idles\n",
    "isHeader=np.vectorize(lambda x: x.startswith(i2c.ROC_HdrMarker) &( x.endswith('5') | x.endswith('2')))(dfInput.values).T[i2c.ERx_active].T.sum(axis=1)>i2c.Match_thresh\n",
    "isIdle=np.vectorize(lambda x: x.startswith(i2c.ROC_FirstSyncHeader+i2c.ROC_SyncBody) | x.startswith(i2c.ROC_SyncHeader+i2c.ROC_SyncBody))(dfInput.shift(fill_value='00000000').values.T[i2c.ERx_active].T).sum(axis=1)>i2c.Match_thresh\n",
    "\n",
    "\n",
    "startIndices=np.argwhere(isHeader&isIdle).flatten()\n",
    "dfFC['isHeader']=(isHeader&isIdle).astype(int)\n",
    "\n",
    "dfCounters=simulateCounters(dfFC)"
   ]
  },
  {
   "cell_type": "code",
   "execution_count": null,
   "id": "1ffacbd9",
   "metadata": {},
   "outputs": [],
   "source": [
    "#cheat, looking at rr values from chip outputs\n",
    "rr=np.where(np.vectorize(lambda x: x.startswith(i2c.IdlePattern))(dfOutput['eTx_0']),\n",
    "         (dfOutput['eTx_0'].apply(int,base=16).values>>6)&3,\n",
    "         np.nan)\n",
    "rr=pd.DataFrame({\"RR\":rr}).ffill().astype(int)\n",
    "RRbits=np.vectorize(lambda x: f'{x:02b}')(rr.values.flatten())"
   ]
  },
  {
   "cell_type": "code",
   "execution_count": null,
   "id": "4bc4de04",
   "metadata": {},
   "outputs": [],
   "source": [
    "emulatorPackets=ECOND_Simple_Emulator(dfInput, dfCounters, startIndices, i2c, RRbits)\n",
    "\n",
    "simulatorPackets=parseOutputPackets(dfOutput,i2c)"
   ]
  },
  {
   "cell_type": "code",
   "execution_count": null,
   "id": "cb253f3a",
   "metadata": {},
   "outputs": [],
   "source": []
  },
  {
   "cell_type": "code",
   "execution_count": null,
   "id": "d705e5c8",
   "metadata": {},
   "outputs": [],
   "source": [
    "### First Check, are there the same number of packets in the outputs\n",
    "if len(emulatorPackets)==len(simulatorPackets):\n",
    "    print(f'Found {len(emulatorPackets)} packets in both emumulator and UVM')\n",
    "else:\n",
    "    print(f'Mismatch in number of packets: {len(emulatorPackets)} packets in emumulator and {len(simulatorPackets)} packets in UVM')\n",
    "    \n"
   ]
  },
  {
   "cell_type": "code",
   "execution_count": null,
   "id": "156aff75",
   "metadata": {},
   "outputs": [],
   "source": [
    "#check all the packets, seeing that they are in agreement\n",
    "\n",
    "def p_f(passFail):\n",
    "    if passFail:\n",
    "        return \"Pass\"\n",
    "    else:\n",
    "        return \"FAIL\"\n",
    "\n",
    "for i in range(len(emulatorPackets)):\n",
    "    if len(emulatorPackets[i])==len(simulatorPackets[i]):\n",
    "        fullMatch=(emulatorPackets[i][:]==simulatorPackets[i][:]).all()\n",
    "        subpacketsMatch=(emulatorPackets[i][2:]==simulatorPackets[i][2:]).all()\n",
    "        headerMatch=(emulatorPackets[i][:2]==simulatorPackets[i][:2]).all()\n",
    "        hdrFields_em=parseHeaderWords(emulatorPackets[i])\n",
    "        hdrFieldsNoRR_em=hdrFields_em[:8]+hdrFields_em[9:-2]\n",
    "        hdrFields_sim=parseHeaderWords(simulatorPackets[i])\n",
    "        hdrFieldsNoRR_sim=hdrFields_sim[:8]+hdrFields_sim[9:-2]\n",
    "        headerMatchNoRR=hdrFieldsNoRR_em==hdrFieldsNoRR_sim\n",
    "        \n",
    "        print(f'{i:03d}:  FullMatchNoRR: {p_f(subpacketsMatch and headerMatchNoRR)}; FullMatch: {p_f(fullMatch)}; SubpacketMatch: {p_f(subpacketsMatch)};  hdrMatchNoRR: {p_f(headerMatchNoRR)}; hdrMatch: {p_f(headerMatch)}')\n",
    "    else:\n",
    "        print(f'{i:03d}:  Mismatch in packet lengths; Emulator Packet = {len(emulatorPackets[i])} words; Simulator Packet = {len(simulatorPackets[i])} words; ')\n"
   ]
  },
  {
   "cell_type": "code",
   "execution_count": null,
   "id": "01c6c791",
   "metadata": {},
   "outputs": [],
   "source": []
  }
 ],
 "metadata": {
  "kernelspec": {
   "display_name": "Python 3 (ipykernel)",
   "language": "python",
   "name": "python3"
  },
  "language_info": {
   "codemirror_mode": {
    "name": "ipython",
    "version": 3
   },
   "file_extension": ".py",
   "mimetype": "text/x-python",
   "name": "python",
   "nbconvert_exporter": "python",
   "pygments_lexer": "ipython3",
   "version": "3.9.6"
  }
 },
 "nbformat": 4,
 "nbformat_minor": 5
}
